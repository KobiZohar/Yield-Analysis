{
 "cells": [
  {
   "cell_type": "code",
   "execution_count": 1,
   "metadata": {},
   "outputs": [],
   "source": [
    "import numpy as np\n",
    "import pandas as pd\n",
    "import matplotlib.pyplot as plt\n"
   ]
  },
  {
   "cell_type": "code",
   "execution_count": 2,
   "metadata": {},
   "outputs": [
    {
     "name": "stdout",
     "output_type": "stream",
     "text": [
      "pls enter period analysis: w/m/qm\n"
     ]
    }
   ],
   "source": [
    "period=input(r'pls enter period analysis: w/m/q')"
   ]
  },
  {
   "cell_type": "code",
   "execution_count": 16,
   "metadata": {},
   "outputs": [],
   "source": [
    "if period=='q':\n",
    "    path1 = 'R:/Operations/QA/Yield Analysis/ww yield analysis1.txt'\n",
    "    path2 = 'R:/Operations/QA/Yield Analysis/ww yield analysis2.txt'\n",
    "    path3 = 'R:/Operations/QA/Yield Analysis/ww yield analysis3.txt'\n",
    "\n",
    "    df1=pd.DataFrame([line.split('\\t') for line in open(path1)])\n",
    "    df2=pd.DataFrame([line.split('\\t') for line in open(path2)])\n",
    "    df3=pd.DataFrame([line.split('\\t') for line in open(path3)])\n",
    "\n",
    "    df1.columns = df1.iloc[3]\n",
    "    df1 = df1.iloc[4:]\n",
    "    df2.columns = df2.iloc[3]\n",
    "    df2 = df2.iloc[4:]\n",
    "    df3.columns = df3.iloc[3]\n",
    "    df3 = df3.iloc[4:]\n",
    "\n",
    "    df = pd.concat([df1,df2,df3])\n",
    "else:\n",
    "    #path = 'R:/Operations/QA/Yield Analysis/ww yield analysis.csv'\n",
    "    path = 'R:/Operations/QA/Yield Analysis/ww yield analysis.txt'\n",
    "\n",
    "    #for CSV file\n",
    "    #df = pd.read_csv(path, header=3)\n",
    "\n",
    "    #for text file\n",
    "    df=pd.DataFrame([line.split('\\t') for line in open(path)])\n",
    "    df.columns = df.iloc[3]\n",
    "    df = df.iloc[4:]"
   ]
  },
  {
   "cell_type": "code",
   "execution_count": 4,
   "metadata": {},
   "outputs": [],
   "source": [
    "#prod_path='R:/Operations/QA/Yield Analysis/Scripts/Product family.csv'\n",
    "#prod_dict=pd.read_csv(prod_path, header=None, index_col=0,squeeze=True).to_dict()\n"
   ]
  },
  {
   "cell_type": "markdown",
   "metadata": {},
   "source": [
    "# Yield for Site 1 (Radwin?)"
   ]
  },
  {
   "cell_type": "code",
   "execution_count": 17,
   "metadata": {},
   "outputs": [],
   "source": [
    "df_site1=df[(df['Site']=='1')]\n",
    "df_site3=df[(df['Site']=='3')]\n",
    "df_site4=df[(df['Site']=='4')]"
   ]
  },
  {
   "cell_type": "code",
   "execution_count": 18,
   "metadata": {},
   "outputs": [],
   "source": [
    "df_site3.to_csv('R:/Operations/QA/Yield Analysis/Scripts/Venture Raw Data.csv')"
   ]
  },
  {
   "cell_type": "code",
   "execution_count": 19,
   "metadata": {},
   "outputs": [],
   "source": [
    "Results_site1=[]\n",
    "for st in df_site1['Station'].unique():\n",
    "    df_st=df_site1[(df_site1['Station']==st)]\n",
    "    for pn in df_st['PN'].unique():\n",
    "        df_st_pn=df_st[(df_st['PN']==pn)]\n",
    "        total_pass=0\n",
    "        units=0\n",
    "        first_units=0\n",
    "        first_units_pass=0\n",
    "        for sn in df_st_pn['SN'].unique():\n",
    "            df_st_pn_sn=df_st_pn[(df_st_pn['SN']==sn)]\n",
    "            if (len(df_st_pn_sn['Test ID'].unique())==1)&(df_st_pn_sn['Result'].unique()[0]=='pass'):\n",
    "                total_pass+=1\n",
    "                units+=1\n",
    "            else:\n",
    "                if 'pass' in df_st_pn_sn['Result'].unique():\n",
    "                    total_pass+=1\n",
    "                    units+=1\n",
    "                else:\n",
    "                    units+=1\n",
    "            # the below counter is to count number of units that this week meet the ATE at the first time\n",
    "            if (('1' in df_st_pn_sn['seq'].unique())&(df_st_pn_sn['Result'].unique()[0]=='pass')):\n",
    "                first_units_pass+=1\n",
    "                first_units+=1\n",
    "            elif ('1' in df_st_pn_sn['seq'].unique()):\n",
    "                first_units+=1\n",
    "            \n",
    "                \n",
    "        Results_site1.append([st,pn,first_units,first_units_pass,units,total_pass])"
   ]
  },
  {
   "cell_type": "markdown",
   "metadata": {},
   "source": [
    "# Yield for Site 3"
   ]
  },
  {
   "cell_type": "code",
   "execution_count": 20,
   "metadata": {},
   "outputs": [],
   "source": [
    "Results_site3=[]\n",
    "for st in df_site3['Station'].unique():\n",
    "    df_st=df_site3[(df_site3['Station']==st)]\n",
    "    for pn in df_st['PN'].unique():\n",
    "        df_st_pn=df_st[(df_st['PN']==pn)]\n",
    "        total_pass=0\n",
    "        units=0\n",
    "        first_units=0\n",
    "        first_units_pass=0\n",
    "        for sn in df_st_pn['SN'].unique():\n",
    "            df_st_pn_sn=df_st_pn[(df_st_pn['SN']==sn)]\n",
    "            if (len(df_st_pn_sn['Test ID'].unique())==1)&(df_st_pn_sn['Result'].unique()[0]=='pass'):\n",
    "                total_pass+=1\n",
    "                units+=1\n",
    "            else:\n",
    "                if 'pass' in df_st_pn_sn['Result'].unique():\n",
    "                    total_pass+=1\n",
    "                    units+=1\n",
    "                else:\n",
    "                    units+=1\n",
    "                    \n",
    "        # the below counter is to count number of units that this week meet the ATE at the first time\n",
    "            if (('1' in df_st_pn_sn['seq'].unique())&(df_st_pn_sn['Result'].unique()[0]=='pass')):\n",
    "                first_units_pass+=1\n",
    "                first_units+=1\n",
    "            elif ('1' in df_st_pn_sn['seq'].unique()):\n",
    "                first_units+=1\n",
    "            \n",
    "                \n",
    "        Results_site3.append([st,pn,first_units,first_units_pass,units,total_pass])"
   ]
  },
  {
   "cell_type": "markdown",
   "metadata": {},
   "source": [
    "# Yield for Site 4"
   ]
  },
  {
   "cell_type": "code",
   "execution_count": 21,
   "metadata": {},
   "outputs": [],
   "source": [
    "Results_site4=[]\n",
    "for st in df_site4['Station'].unique():\n",
    "    df_st=df_site4[(df_site4['Station']==st)]\n",
    "    for pn in df_st['PN'].unique():\n",
    "        df_st_pn=df_st[(df_st['PN']==pn)]\n",
    "        total_pass=0\n",
    "        units=0\n",
    "        first_units=0\n",
    "        first_units_pass=0\n",
    "        for sn in df_st_pn['SN'].unique():\n",
    "            df_st_pn_sn=df_st_pn[(df_st_pn['SN']==sn)]\n",
    "            if (len(df_st_pn_sn['Test ID'].unique())==1)&(df_st_pn_sn['Result'].unique()[0]=='pass'):\n",
    "                total_pass+=1\n",
    "                units+=1\n",
    "            else:\n",
    "                if 'pass' in df_st_pn_sn['Result'].unique():\n",
    "                    total_pass+=1\n",
    "                    units+=1\n",
    "                else:\n",
    "                    units+=1\n",
    "                    \n",
    "             # the below counter is to count number of units that this week meet the ATE at the first time\n",
    "            if (('1' in df_st_pn_sn['seq'].unique())&(df_st_pn_sn['Result'].unique()[0]=='pass')):\n",
    "                first_units_pass+=1\n",
    "                first_units+=1\n",
    "            elif ('1' in df_st_pn_sn['seq'].unique()):\n",
    "                first_units+=1\n",
    "            \n",
    "                \n",
    "        Results_site4.append([st,pn,first_units,first_units_pass,units,total_pass])"
   ]
  },
  {
   "cell_type": "markdown",
   "metadata": {},
   "source": [
    "# Preparing the Final DataFrames"
   ]
  },
  {
   "cell_type": "code",
   "execution_count": 22,
   "metadata": {},
   "outputs": [],
   "source": [
    "df_results_site1=pd.DataFrame(Results_site1,columns=['Station','PN','FTY Total Units','First Pass Units','Total Units','Total Pass Units'])\n",
    "df_results_site3=pd.DataFrame(Results_site3,columns=['Station','PN','FTY Total Units','First Pass Units','Total Units','Total Pass Units'])\n",
    "df_results_site4=pd.DataFrame(Results_site4,columns=['Station','PN','FTY Total Units','First Pass Units','Total Units','Total Pass Units'])"
   ]
  },
  {
   "cell_type": "code",
   "execution_count": 23,
   "metadata": {},
   "outputs": [],
   "source": [
    "df_results_site1['Site']='Radwin (1)'\n",
    "df_results_site1['FTY']=df_results_site1['First Pass Units']/df_results_site1['FTY Total Units']*100\n",
    "df_results_site1['Yield']=df_results_site1['Total Pass Units']/df_results_site1['Total Units']*100\n",
    "df_results_site1['NFF']=100*(df_results_site1['Total Pass Units']-df_results_site1['First Pass Units'])/df_results_site1['Total Units']\n"
   ]
  },
  {
   "cell_type": "code",
   "execution_count": 24,
   "metadata": {},
   "outputs": [],
   "source": [
    "df_results_site3['Site']='Venture (3)'\n",
    "df_results_site3['FTY']=df_results_site3['First Pass Units']/df_results_site3['FTY Total Units']*100\n",
    "df_results_site3['Yield']=df_results_site3['Total Pass Units']/df_results_site3['Total Units']*100\n",
    "df_results_site3['NFF']=100*(df_results_site3['Total Pass Units']-df_results_site3['First Pass Units'])/df_results_site3['Total Units']\n"
   ]
  },
  {
   "cell_type": "code",
   "execution_count": 25,
   "metadata": {},
   "outputs": [],
   "source": [
    "df_results_site4['Site']='RH (4)'\n",
    "df_results_site4['FTY']=df_results_site4['First Pass Units']/df_results_site4['Total Units']*100\n",
    "df_results_site4['Yield']=df_results_site4['Total Pass Units']/df_results_site4['Total Units']*100\n",
    "df_results_site4['NFF']=100*(df_results_site4['Total Pass Units']-df_results_site4['First Pass Units'])/df_results_site4['Total Units']\n",
    "\n"
   ]
  },
  {
   "cell_type": "code",
   "execution_count": 26,
   "metadata": {},
   "outputs": [],
   "source": [
    "df_results = pd.concat([df_results_site1,df_results_site3,df_results_site4])\n",
    "df_results=df_results.set_index(['Site'])\n",
    "\n",
    "\n",
    "\n"
   ]
  },
  {
   "cell_type": "code",
   "execution_count": 30,
   "metadata": {},
   "outputs": [],
   "source": [
    "df_results.to_csv('R:/Operations/QA/Yield Analysis/Yield Analysis Results_%s.csv' %timestr)\n",
    "df_results.to_html('R:/Operations/QA/Yield Analysis/Yield Analysis Results_%s.html' %timestr)"
   ]
  },
  {
   "cell_type": "code",
   "execution_count": null,
   "metadata": {},
   "outputs": [],
   "source": []
  }
 ],
 "metadata": {
  "kernelspec": {
   "display_name": "Python 3",
   "language": "python",
   "name": "python3"
  },
  "language_info": {
   "codemirror_mode": {
    "name": "ipython",
    "version": 3
   },
   "file_extension": ".py",
   "mimetype": "text/x-python",
   "name": "python",
   "nbconvert_exporter": "python",
   "pygments_lexer": "ipython3",
   "version": "3.7.3"
  }
 },
 "nbformat": 4,
 "nbformat_minor": 2
}
